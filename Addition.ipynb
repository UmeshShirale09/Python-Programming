{
  "nbformat": 4,
  "nbformat_minor": 0,
  "metadata": {
    "colab": {
      "provenance": [],
      "authorship_tag": "ABX9TyN8aWS7c2leJJ/5PFqDVXhS",
      "include_colab_link": true
    },
    "kernelspec": {
      "name": "python3",
      "display_name": "Python 3"
    },
    "language_info": {
      "name": "python"
    }
  },
  "cells": [
    {
      "cell_type": "markdown",
      "metadata": {
        "id": "view-in-github",
        "colab_type": "text"
      },
      "source": [
        "<a href=\"https://colab.research.google.com/github/UmeshShirale09/Python-Programming/blob/main/Addition.ipynb\" target=\"_parent\"><img src=\"https://colab.research.google.com/assets/colab-badge.svg\" alt=\"Open In Colab\"/></a>"
      ]
    },
    {
      "cell_type": "markdown",
      "source": [
        "**Add two numbers**\n",
        "\n",
        "---\n",
        "In this program you will learn to add two numbers and display it using print() function"
      ],
      "metadata": {
        "id": "iMFYtygli_IN"
      }
    },
    {
      "cell_type": "code",
      "execution_count": 2,
      "metadata": {
        "colab": {
          "base_uri": "https://localhost:8080/"
        },
        "id": "GHQQ7xQzi-Y6",
        "outputId": "f8fa4971-7841-4a7e-9d78-69601db1e306"
      },
      "outputs": [
        {
          "output_type": "stream",
          "name": "stdout",
          "text": [
            "Enter first number : 12\n",
            "Enter second number : 35\n",
            "Addition of 12 and 35 is 47\n"
          ]
        }
      ],
      "source": [
        "num1 = int(input(\"Enter first number : \"))   # first number\n",
        "num2 = int(input(\"Enter second number : \"))  # second number\n",
        "\n",
        "sum = num1 + num2  # add two numbers\n",
        "\n",
        "print(\"Addition of {0} and {1} is {2}\" .format(num1, num2, sum))\n"
      ]
    }
  ]
}