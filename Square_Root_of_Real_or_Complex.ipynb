{
  "nbformat": 4,
  "nbformat_minor": 0,
  "metadata": {
    "colab": {
      "provenance": [],
      "authorship_tag": "ABX9TyMcsdC9QI1MbeLQDwOk0QQ1",
      "include_colab_link": true
    },
    "kernelspec": {
      "name": "python3",
      "display_name": "Python 3"
    },
    "language_info": {
      "name": "python"
    }
  },
  "cells": [
    {
      "cell_type": "markdown",
      "metadata": {
        "id": "view-in-github",
        "colab_type": "text"
      },
      "source": [
        "<a href=\"https://colab.research.google.com/github/UmeshShirale09/Python-Programming/blob/main/Square_Root_of_Real_or_Complex.ipynb\" target=\"_parent\"><img src=\"https://colab.research.google.com/assets/colab-badge.svg\" alt=\"Open In Colab\"/></a>"
      ]
    },
    {
      "cell_type": "markdown",
      "source": [
        "**Find the Square Root of Real or Complex**\n",
        "\n",
        "---\n",
        "In this program you will learn to find square root of real or complex numbers and display it using cmath (complex math) module using sqrt function. "
      ],
      "metadata": {
        "id": "mtxKIWrAnn-y"
      }
    },
    {
      "cell_type": "code",
      "execution_count": 13,
      "metadata": {
        "colab": {
          "base_uri": "https://localhost:8080/"
        },
        "id": "QCxbS83nnicM",
        "outputId": "23639d40-639c-4075-aef7-c512f4c47e15"
      },
      "outputs": [
        {
          "output_type": "stream",
          "name": "stdout",
          "text": [
            "Enter the complex number : 16\n",
            "<class 'complex'>\n",
            "The square root of (16+0j) is (4.0 + 0.0j)\n"
          ]
        }
      ],
      "source": [
        "import cmath   # import complex math module\n",
        "\n",
        "num = complex(input(\"Enter the complex number : \"))\n",
        "print(type(num))\n",
        "num_sqrt = cmath.sqrt(num)\n",
        "print(\"The square root of {0} is ({1:0.1f} + {2:0.1f}j)\" .format(num, num_sqrt.real, num_sqrt.imag))"
      ]
    }
  ]
}