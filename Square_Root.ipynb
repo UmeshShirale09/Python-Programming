{
  "nbformat": 4,
  "nbformat_minor": 0,
  "metadata": {
    "colab": {
      "provenance": [],
      "authorship_tag": "ABX9TyP7l/LdWUo5YnglYPkjzpWV",
      "include_colab_link": true
    },
    "kernelspec": {
      "name": "python3",
      "display_name": "Python 3"
    },
    "language_info": {
      "name": "python"
    }
  },
  "cells": [
    {
      "cell_type": "markdown",
      "metadata": {
        "id": "view-in-github",
        "colab_type": "text"
      },
      "source": [
        "<a href=\"https://colab.research.google.com/github/UmeshShirale09/Python-Programming/blob/main/Square_Root.ipynb\" target=\"_parent\"><img src=\"https://colab.research.google.com/assets/colab-badge.svg\" alt=\"Open In Colab\"/></a>"
      ]
    },
    {
      "cell_type": "markdown",
      "source": [
        "**Find the Square Root**\n",
        "\n",
        "---\n",
        "In this program you will learn to find square root of numbers and display it using  **  exponent operator"
      ],
      "metadata": {
        "id": "e2kdntL-ldXD"
      }
    },
    {
      "cell_type": "code",
      "execution_count": 3,
      "metadata": {
        "colab": {
          "base_uri": "https://localhost:8080/"
        },
        "id": "qIVX1bmPlOx3",
        "outputId": "5a2cc441-0e9d-4812-d029-79517f162fda"
      },
      "outputs": [
        {
          "output_type": "stream",
          "name": "stdout",
          "text": [
            "Enter the number : 34665\n",
            "the suare root of 34665.00 is 186.19\n"
          ]
        }
      ],
      "source": [
        "num = float(input(\"Enter the number : \"))\n",
        "num_sqrt = num ** 0.5 \n",
        "\n",
        "print(\"the suare root of %0.2f is %0.2f\" %(num, num_sqrt))"
      ]
    }
  ]
}